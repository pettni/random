{
 "cells": [
  {
   "cell_type": "markdown",
   "metadata": {},
   "source": [
    "# Gaussian process\n",
    "\n",
    "A simple class implementing a Gaussian Process (GP) function estimator. GPs predict function values and prediction confidence intervals by assuming a certain covariance function between data, and using the conditional multivariate normal distribution. In this class Schur complements are used to incrementally invert the covariance matrix as new data is added."
   ]
  },
  {
   "cell_type": "code",
   "execution_count": 1,
   "metadata": {},
   "outputs": [],
   "source": [
    "import numpy as np\n",
    "from scipy.spatial.distance import cdist\n",
    "import matplotlib.pyplot as plt\n",
    "\n",
    "class GP:\n",
    "    def __init__(self, kernel):\n",
    "        self.kernel = kernel\n",
    "        self.X = None\n",
    "        self.Y = None    \n",
    "        self.S_XX_inv = None\n",
    "\n",
    "    def train(self, x, y):\n",
    "        x = np.matrix(x).reshape([1,-1])\n",
    "        \n",
    "        if self.X is None:\n",
    "            self.X = np.matrix(x).reshape([1,-1])\n",
    "            self.Y = np.matrix(y)\n",
    "            self.S_XX_inv = np.linalg.inv(self.kernel(self.X, self.X))\n",
    "            return\n",
    "\n",
    "        # update S_XX_inv via Schur complement\n",
    "        S21 = self.kernel(x, self.X)\n",
    "        \n",
    "        if np.max(S21) > 1-1e-5:\n",
    "            print(\"warning: new data {} too close to existing point\".format(x))\n",
    "            return\n",
    "        \n",
    "        SCinv = np.linalg.inv(self.kernel(x, x) - S21 * self.S_XX_inv * S21.T)\n",
    "        Sinv12 = self.S_XX_inv * S21.T * SCinv\n",
    "        Sinv11 = self.S_XX_inv + Sinv12 * S21 * self.S_XX_inv    \n",
    "        self.S_XX_inv = np.bmat([[Sinv11, -Sinv12], \n",
    "                                 [-Sinv12.T, SCinv]])\n",
    "\n",
    "        self.X = np.vstack([self.X, x])\n",
    "        self.Y = np.vstack([self.Y, y])        \n",
    "\n",
    "    def predict(self, x):        \n",
    "        x = np.matrix(x).reshape([1,-1])\n",
    "        S_xX = self.kernel(x, self.X)\n",
    "\n",
    "        mu_pred = S_xX * self.S_XX_inv * self.Y\n",
    "        sig_pred = self.kernel(x, x) - S_xX * self.S_XX_inv * S_xX.T\n",
    "\n",
    "        return mu_pred, sig_pred"
   ]
  },
  {
   "cell_type": "markdown",
   "metadata": {},
   "source": [
    "# Training\n",
    "Initialize a GP with a custom kernel and sample some data from a function"
   ]
  },
  {
   "cell_type": "code",
   "execution_count": 2,
   "metadata": {},
   "outputs": [],
   "source": [
    "sigma = 0.4\n",
    "gp = GP(kernel = lambda x1, x2: np.exp(-cdist(x1, x2, 'euclidean')**2/(2*sigma)))\n",
    "\n",
    "N_sample = 5\n",
    "fun = lambda x: np.sin(3*x)\n",
    "np.random.seed(3)\n",
    "\n",
    "for i in range(N_sample):\n",
    "    x = 5*np.random.rand()\n",
    "    y = fun(x)\n",
    "    gp.train(x,y)\n",
    "\n",
    "predictor = np.vectorize(gp.predict)"
   ]
  },
  {
   "cell_type": "markdown",
   "metadata": {},
   "source": [
    "# Prediction\n",
    "Plot the estimated function along with confidence interval estimations"
   ]
  },
  {
   "cell_type": "code",
   "execution_count": 3,
   "metadata": {},
   "outputs": [
    {
     "data": {
      "image/png": "[encoded data removed]",
      "text/plain": [
       "<Figure size 432x288 with 1 Axes>"
      ]
     },
     "metadata": {
      "needs_background": "light"
     },
     "output_type": "display_data"
    }
   ],
   "source": [
    "fig, ax = plt.subplots()\n",
    "\n",
    "xx = np.linspace(0, 5, 100)\n",
    "\n",
    "yy, ss = predictor(xx)\n",
    "\n",
    "ax.plot(xx, yy)\n",
    "ax.fill_between(xx, yy-1.96*np.sqrt(ss), yy+1.96*np.sqrt(ss), alpha=0.3)\n",
    "ax.plot(xx, fun(xx), '--')\n",
    "ax.plot(gp.X, gp.Y, 'o')\n",
    "\n",
    "plt.show()"
   ]
  }
 ],
 "metadata": {
  "kernelspec": {
   "display_name": "Python 3",
   "language": "python",
   "name": "python3"
  },
  "language_info": {
   "codemirror_mode": {
    "name": "ipython",
    "version": 3
   },
   "file_extension": ".py",
   "mimetype": "text/x-python",
   "name": "python",
   "nbconvert_exporter": "python",
   "pygments_lexer": "ipython3",
   "version": "3.6.7rc1"
  }
 },
 "nbformat": 4,
 "nbformat_minor": 2
}
