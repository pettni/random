{
 "cells": [
  {
   "cell_type": "markdown",
   "metadata": {},
   "source": [
    "# Learning Julia in y minutes"
   ]
  },
  {
   "cell_type": "code",
   "execution_count": 1,
   "metadata": {},
   "outputs": [],
   "source": [
    "# Single-line comment\n",
    "\n",
    "#= Multi-line comment\n",
    "   more comment\n",
    "=#\n",
    "\n",
    "using Printf"
   ]
  },
  {
   "cell_type": "markdown",
   "metadata": {},
   "source": [
    "## Numeric types"
   ]
  },
  {
   "cell_type": "code",
   "execution_count": 2,
   "metadata": {},
   "outputs": [
    {
     "name": "stdout",
     "output_type": "stream",
     "text": [
      "3 is type Int64 \n",
      "3.2 is type Float64 \n",
      "3+2im is type Complex{Int64} \n",
      "3/2 is type Rational{Int64} \n",
      "10/2=5.0 of type Float64\n",
      "11/2=5.5 of type Float64\n",
      "div(11,2)=5 of type Int64\n"
     ]
    }
   ],
   "source": [
    "@printf \"3 is type %s \\n\" typeof(3)\n",
    "@printf \"3.2 is type %s \\n\" typeof(3.2)\n",
    "@printf \"3+2im is type %s \\n\" typeof(3 + 2*im)\n",
    "@printf \"3/2 is type %s \\n\" typeof(3//2)\n",
    "\n",
    "println(\"10/2=\", 10/2, \" of type \", typeof(10/2))\n",
    "println(\"11/2=\", 11/2, \" of type \", typeof(11/2))\n",
    "println(\"div(11,2)=\", div(11,2), \" of type \", typeof(div(11,2))) "
   ]
  },
  {
   "cell_type": "markdown",
   "metadata": {},
   "source": [
    "## Bitwise"
   ]
  },
  {
   "cell_type": "code",
   "execution_count": 3,
   "metadata": {},
   "outputs": [
    {
     "name": "stdout",
     "output_type": "stream",
     "text": [
      "Int32 -123 has bit representation 11111111111111111111111110000101\n",
      "UInt32 123 has bit representation 00000000000000000000000001111011\n"
     ]
    }
   ],
   "source": [
    "println(\"Int32 \", Int32(-123), \" has bit representation \", bitstring(Int32(-123)))\n",
    "println(\"UInt32 \", UInt32(123), \" has bit representation \", bitstring(UInt32(123)))"
   ]
  },
  {
   "cell_type": "markdown",
   "metadata": {},
   "source": [
    "## Strings and characters"
   ]
  },
  {
   "cell_type": "code",
   "execution_count": 4,
   "metadata": {},
   "outputs": [
    {
     "name": "stdout",
     "output_type": "stream",
     "text": [
      "String\n",
      "Char\n",
      "Comparing interpolated strings: true\n"
     ]
    }
   ],
   "source": [
    "println(typeof(\"This is a string\"))\n",
    "println(typeof('a'))\n",
    "\n",
    "println(\"Comparing interpolated strings: \", \"1 + 2 + 3\" == \"1 + 2 + $(1+2)\")"
   ]
  },
  {
   "cell_type": "markdown",
   "metadata": {},
   "source": [
    "## Undefined vars"
   ]
  },
  {
   "cell_type": "code",
   "execution_count": 5,
   "metadata": {},
   "outputs": [
    {
     "name": "stdout",
     "output_type": "stream",
     "text": [
      "UndefVarError(:undefined_var)\n"
     ]
    }
   ],
   "source": [
    "try \n",
    "    undefined_var\n",
    "catch e\n",
    "    println(e)\n",
    "end"
   ]
  },
  {
   "cell_type": "markdown",
   "metadata": {},
   "source": [
    "## Arrays"
   ]
  },
  {
   "cell_type": "code",
   "execution_count": 6,
   "metadata": {},
   "outputs": [
    {
     "name": "stdout",
     "output_type": "stream",
     "text": [
      "a has type Array{Int64,1}\n",
      "b has type Array{Int8,1}\n",
      "c has type Array{Int64,2}\n",
      "UnitRange{Int64}[0:5] has type Array{UnitRange{Int64},1}\n",
      "Int8[0, 1, 2, 3, 4, 5] has type Array{Int8,1}\n",
      "[0, 1, 2, 3, 4, 5, 5, 7, 8, 9]\n"
     ]
    }
   ],
   "source": [
    "a = Int64[]\n",
    "println(\"a has type \", typeof(a))\n",
    "b = Int8[1,2,3,4,5]\n",
    "println(\"b has type \", typeof(b))\n",
    "\n",
    "# indexing is 1-based\n",
    "b[1]\n",
    "b[end]\n",
    "\n",
    "# but foreach loops are recommended\n",
    "for x in b\n",
    "    x\n",
    "end\n",
    "\n",
    "# two-dimensional arrays follow Matlab syntax\n",
    "c = [1 2 3;4 5 6]\n",
    "println(\"c has type \", typeof(c))\n",
    "\n",
    "# ranges\n",
    "println([0:5], \" has type \", typeof([0:5]))\n",
    "println(Int8[0:5;], \" has type \", typeof(Int8[0:5;]))\n",
    "\n",
    "u = collect(0:5)\n",
    "push!(u,5)\n",
    "append!(u, [7,8,9])\n",
    "println(u)"
   ]
  },
  {
   "cell_type": "markdown",
   "metadata": {},
   "source": [
    "## Control flow"
   ]
  },
  {
   "cell_type": "code",
   "execution_count": 7,
   "metadata": {},
   "outputs": [
    {
     "name": "stdout",
     "output_type": "stream",
     "text": [
      "cat is a mammal\n",
      "dog is a mammal\n",
      "4\n"
     ]
    }
   ],
   "source": [
    "# foreach on dict\n",
    "for (key, value) in Dict(\"dog\" => \"mammal\", \"cat\" => \"mammal\")\n",
    "    println(\"$key is a $value\")\n",
    "end\n",
    "\n",
    "# while loop with local iterator variable\n",
    "let x = 0\n",
    "    while x < 4\n",
    "        x += 1\n",
    "    end\n",
    "    println(x)\n",
    "end"
   ]
  },
  {
   "cell_type": "markdown",
   "metadata": {},
   "source": [
    "## Functions"
   ]
  },
  {
   "cell_type": "code",
   "execution_count": 8,
   "metadata": {},
   "outputs": [
    {
     "name": "stdout",
     "output_type": "stream",
     "text": [
      "11\n",
      "(11, -1)\n",
      "(1, 2, 3, 4, \"katt\")\n",
      "(1, 2, 3, 4)\n"
     ]
    }
   ],
   "source": [
    "function add(x,y)\n",
    "    x+y\n",
    "end\n",
    "\n",
    "f_add(x,y) = x+y, x-y\n",
    "\n",
    "println(add(5,6))\n",
    "println(f_add(5,6))\n",
    "\n",
    "# using splats for variable-length arguments\n",
    "f_varargs(args...) = args\n",
    "\n",
    "println(f_varargs(1,2,3,4,\"katt\"))\n",
    "println(f_varargs([1,2,3,4]...))"
   ]
  },
  {
   "cell_type": "markdown",
   "metadata": {},
   "source": [
    "## First-class functions and lambdas"
   ]
  },
  {
   "cell_type": "code",
   "execution_count": 9,
   "metadata": {},
   "outputs": [
    {
     "name": "stdout",
     "output_type": "stream",
     "text": [
      "11\n",
      "[6, 7, 8]\n",
      "[0, 2, 4, 6, 8, 10]\n",
      "[9, 10, 11, 12, 13, 14, 15]\n"
     ]
    }
   ],
   "source": [
    "function create_adder(x)\n",
    "    return y -> x + y  # anonymous functon\n",
    "end\n",
    "\n",
    "adder = create_adder(5)\n",
    "println(adder(6))\n",
    "\n",
    "# map and filter with custom functions\n",
    "println(map(adder, [1,2,3]))\n",
    "println(filter(x -> mod(x,2) == 0, 0:10))\n",
    "\n",
    "# list comprehension\n",
    "println([adder(i) for i in 1:10 if i > 3])"
   ]
  },
  {
   "cell_type": "markdown",
   "metadata": {},
   "source": [
    "# Custom types and multiple-dispatch"
   ]
  },
  {
   "cell_type": "code",
   "execution_count": 12,
   "metadata": {},
   "outputs": [
    {
     "name": "stdout",
     "output_type": "stream",
     "text": [
      "grrrr\n",
      "rawwr\n"
     ]
    }
   ],
   "source": [
    "abstract type Cat end\n",
    "\n",
    "struct Tiger <: Cat\n",
    "    taillength::Float64\n",
    "    coatcolor  # same as ::Any\n",
    "end\n",
    "\n",
    "struct Lion <: Cat\n",
    "    maneColor\n",
    "end\n",
    "\n",
    "tiger = Tiger(3.5, \"orange\")\n",
    "lion = Lion(\"green\")\n",
    "\n",
    "function meow(animal::Tiger)\n",
    "    \"grrrr\"\n",
    "end\n",
    "    \n",
    "function meow(animal::Lion)\n",
    "    \"rawwr\"\n",
    "end\n",
    "    \n",
    "println(meow(tiger))\n",
    "println(meow(lion))"
   ]
  },
  {
   "cell_type": "code",
   "execution_count": 13,
   "metadata": {},
   "outputs": [
    {
     "name": "stdout",
     "output_type": "stream",
     "text": [
      "Cat\n",
      "Any[String, SubString, SubstitutionString, GenericString]\n"
     ]
    }
   ],
   "source": [
    "println(supertype(typeof(tiger)))\n",
    "println(subtypes(AbstractString))"
   ]
  },
  {
   "cell_type": "code",
   "execution_count": 14,
   "metadata": {},
   "outputs": [
    {
     "name": "stdout",
     "output_type": "stream",
     "text": [
      "The cat says grrrr\n",
      "The cat says rawwr\n"
     ]
    }
   ],
   "source": [
    "function pet_cat(cat::Cat)\n",
    "    println(\"The cat says $(meow(cat))\")\n",
    "end\n",
    "\n",
    "for cat in [tiger, lion]\n",
    "    pet_cat(cat)\n",
    "end"
   ]
  },
  {
   "cell_type": "markdown",
   "metadata": {},
   "source": [
    "# Look at assembly code"
   ]
  },
  {
   "cell_type": "code",
   "execution_count": 19,
   "metadata": {},
   "outputs": [
    {
     "name": "stdout",
     "output_type": "stream",
     "text": [
      "\t.text\n",
      "; Function square_area {\n",
      "; Location: In[19]:1\n",
      "; Function *; {\n",
      "; Location: In[19]:1\n",
      "\tvmulss\txmm0, xmm0, xmm0\n",
      ";}\n",
      "\tret\n",
      "\tnop\tword ptr cs:[rax + rax]\n",
      ";}\n"
     ]
    }
   ],
   "source": [
    "square_area(l) = l * l\n",
    "\n",
    "code_native(square_area, (Float32,), syntax = :intel)"
   ]
  },
  {
   "cell_type": "markdown",
   "metadata": {},
   "source": [
    "## Parameterized types"
   ]
  },
  {
   "cell_type": "code",
   "execution_count": 35,
   "metadata": {},
   "outputs": [
    {
     "data": {
      "text/plain": [
       "norm (generic function with 1 method)"
      ]
     },
     "execution_count": 35,
     "metadata": {},
     "output_type": "execute_result"
    }
   ],
   "source": [
    "struct Point{T}\n",
    "    x::T\n",
    "    y::T\n",
    "end\n",
    "\n",
    "function norm(point::Point{T} where T <: Real)\n",
    "    sqrt(point.x^2 + point.y^2)\n",
    "end"
   ]
  },
  {
   "cell_type": "code",
   "execution_count": 36,
   "metadata": {},
   "outputs": [
    {
     "name": "stdout",
     "output_type": "stream",
     "text": [
      "Point{Float64}(1.0, 2.0)\n",
      "Point{Int8}(4, 6)\n",
      "2.23606797749979\n",
      "7.211102550927978\n"
     ]
    }
   ],
   "source": [
    "p_float = Point{Float64}(1,2)\n",
    "p_int = Point{Int8}(4,6)\n",
    "println(p_float)\n",
    "println(p_int)\n",
    "\n",
    "for p in [p_float, p_int]\n",
    "    println(norm(p))\n",
    "end"
   ]
  },
  {
   "cell_type": "code",
   "execution_count": 37,
   "metadata": {},
   "outputs": [
    {
     "name": "stdout",
     "output_type": "stream",
     "text": [
      "11\n"
     ]
    }
   ],
   "source": [
    "😀(x,y) = x+y\n",
    "println(😀(5,6))"
   ]
  }
 ],
 "metadata": {
  "kernelspec": {
   "display_name": "Julia 1.0.1",
   "language": "julia",
   "name": "julia-1.0"
  },
  "language_info": {
   "file_extension": ".jl",
   "mimetype": "application/julia",
   "name": "julia",
   "version": "1.0.1"
  }
 },
 "nbformat": 4,
 "nbformat_minor": 2
}
