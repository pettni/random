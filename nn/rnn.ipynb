{
 "cells": [
  {
   "cell_type": "code",
   "execution_count": 14,
   "metadata": {},
   "outputs": [],
   "source": [
    "import numpy as np\n",
    "import matplotlib.pyplot as plt\n",
    "import torch\n",
    "from torch.autograd import Variable\n",
    "\n",
    "dtype = torch.FloatTensor\n",
    "input_size, hidden_size, output_size = 7, 6, 1\n",
    "epochs = 600\n",
    "seq_length = 20\n",
    "lr = 0.04\n",
    "\n",
    "xx = np.linspace(2, 10, 20)\n",
    "yy = np.sin(xx)\n",
    "\n",
    "x = torch.Tensor(xx.reshape(-1, 1))\n",
    "y = torch.Tensor(yy.reshape(-1,1))"
   ]
  },
  {
   "cell_type": "code",
   "execution_count": 15,
   "metadata": {},
   "outputs": [],
   "source": [
    "w1 = torch.FloatTensor(input_size, hidden_size).type(dtype)\n",
    "torch.nn.init.normal_(w1, 0.0, 0.4)\n",
    "w1 =  Variable(w1, requires_grad=True)\n",
    "w2 = torch.FloatTensor(hidden_size, output_size).type(dtype)\n",
    "torch.nn.init.normal_(w2, 0.0, 0.3)\n",
    "w2 = Variable(w2, requires_grad=True)\n",
    "\n",
    "def forward(input, context_state, w1, w2):\n",
    "    xh = torch.cat((input, context_state), 1)\n",
    "    context_state = torch.tanh(xh.mm(w1))\n",
    "    out = context_state.mm(w2)\n",
    "    return (out, context_state)"
   ]
  },
  {
   "cell_type": "code",
   "execution_count": 16,
   "metadata": {},
   "outputs": [
    {
     "name": "stdout",
     "output_type": "stream",
     "text": [
      "Epoch: 0 loss 4.535204887390137\n",
      "Epoch: 10 loss 3.720723867416382\n",
      "Epoch: 20 loss 3.2499608993530273\n",
      "Epoch: 30 loss 2.8863415718078613\n",
      "Epoch: 40 loss 2.6163241863250732\n",
      "Epoch: 50 loss 2.1446268558502197\n",
      "Epoch: 60 loss 1.4017281532287598\n",
      "Epoch: 70 loss 0.8715076446533203\n",
      "Epoch: 80 loss 0.6922672986984253\n",
      "Epoch: 90 loss 0.6202428340911865\n",
      "Epoch: 100 loss 0.5537925958633423\n",
      "Epoch: 110 loss 0.4843347370624542\n",
      "Epoch: 120 loss 0.41940993070602417\n",
      "Epoch: 130 loss 0.36551323533058167\n",
      "Epoch: 140 loss 0.32789480686187744\n",
      "Epoch: 150 loss 0.3060152530670166\n",
      "Epoch: 160 loss 0.29262638092041016\n",
      "Epoch: 170 loss 0.2832096815109253\n",
      "Epoch: 180 loss 0.2754976749420166\n",
      "Epoch: 190 loss 0.2671950161457062\n",
      "Epoch: 200 loss 0.24944788217544556\n",
      "Epoch: 210 loss 0.29658836126327515\n",
      "Epoch: 220 loss 0.3071081340312958\n",
      "Epoch: 230 loss 0.27835211157798767\n",
      "Epoch: 240 loss 0.2610558569431305\n",
      "Epoch: 250 loss 0.27513977885246277\n",
      "Epoch: 260 loss 0.2668553590774536\n",
      "Epoch: 270 loss 0.2716168165206909\n",
      "Epoch: 280 loss 0.2771315276622772\n",
      "Epoch: 290 loss 0.28609004616737366\n",
      "Epoch: 300 loss 0.30178484320640564\n",
      "Epoch: 310 loss 0.30405524373054504\n",
      "Epoch: 320 loss 0.282817542552948\n",
      "Epoch: 330 loss 0.25140753388404846\n",
      "Epoch: 340 loss 0.21854625642299652\n",
      "Epoch: 350 loss 0.18604178726673126\n",
      "Epoch: 360 loss 0.16110633313655853\n",
      "Epoch: 370 loss 0.14380979537963867\n",
      "Epoch: 380 loss 0.13206569850444794\n",
      "Epoch: 390 loss 0.1240159124135971\n",
      "Epoch: 400 loss 0.11798741668462753\n",
      "Epoch: 410 loss 0.11327853798866272\n",
      "Epoch: 420 loss 0.11053599417209625\n",
      "Epoch: 430 loss 0.11191102862358093\n",
      "Epoch: 440 loss 0.11960457265377045\n",
      "Epoch: 450 loss 0.12539216876029968\n",
      "Epoch: 460 loss 0.1231815367937088\n",
      "Epoch: 470 loss 0.12244190275669098\n",
      "Epoch: 480 loss 0.14073799550533295\n",
      "Epoch: 490 loss 0.1912037581205368\n",
      "Epoch: 500 loss 0.27386587858200073\n",
      "Epoch: 510 loss 0.47779107093811035\n",
      "Epoch: 520 loss 0.6213335990905762\n",
      "Epoch: 530 loss 0.7146426439285278\n",
      "Epoch: 540 loss 0.6620500087738037\n",
      "Epoch: 550 loss 0.5669288635253906\n",
      "Epoch: 560 loss 0.43177592754364014\n",
      "Epoch: 570 loss 0.2501915693283081\n",
      "Epoch: 580 loss 0.2023976445198059\n",
      "Epoch: 590 loss 0.13787968456745148\n"
     ]
    }
   ],
   "source": [
    "for i in range(epochs):\n",
    "    total_loss = 0\n",
    "    context_state = Variable(torch.zeros((1, hidden_size)).type(dtype), requires_grad=True)\n",
    "\n",
    "    for j in range(x.size(0)):\n",
    "        input = x[j:(j+1)]\n",
    "        target = y[j:(j+1)]\n",
    "        (pred, context_state) = forward(input, context_state, w1, w2)\n",
    "        loss = (pred - target).pow(2).sum()/2\n",
    "        total_loss += loss\n",
    "        loss.backward()\n",
    "        w1.data -= lr * w1.grad.data\n",
    "        w2.data -= lr * w2.grad.data\n",
    "        w1.grad.data.zero_()\n",
    "        w2.grad.data.zero_()\n",
    "        context_state = Variable(context_state.data)\n",
    "    if i % 10 == 0:\n",
    "        print(\"Epoch: {} loss {}\".format(i, total_loss))"
   ]
  },
  {
   "cell_type": "code",
   "execution_count": 17,
   "metadata": {},
   "outputs": [
    {
     "data": {
      "text/plain": [
       "<matplotlib.legend.Legend at 0x7fed75717c18>"
      ]
     },
     "execution_count": 17,
     "metadata": {},
     "output_type": "execute_result"
    },
    {
     "data": {
      "image/png": "[encoded data removed]",
      "text/plain": [
       "<Figure size 432x288 with 1 Axes>"
      ]
     },
     "metadata": {
      "needs_background": "light"
     },
     "output_type": "display_data"
    }
   ],
   "source": [
    "context_state = Variable(torch.zeros((1, hidden_size)).type(dtype), requires_grad=False)\n",
    "predictions = []\n",
    "\n",
    "for i in range(x.size(0)):\n",
    "    input = x[i:i+1]\n",
    "    (pred, context_state) = forward(input, context_state, w1, w2)\n",
    "    context_state = context_state\n",
    "    predictions.append(pred.data.numpy().ravel()[0])\n",
    "    \n",
    "ln_pred = plt.plot(xx, predictions, 'o', label='predicted')\n",
    "ln_data = plt.plot(xx, yy, 'o', label='actual')\n",
    "\n",
    "plt.legend()"
   ]
  },
  {
   "cell_type": "code",
   "execution_count": null,
   "metadata": {},
   "outputs": [],
   "source": []
  }
 ],
 "metadata": {
  "kernelspec": {
   "display_name": "Python 3",
   "language": "python",
   "name": "python3"
  },
  "language_info": {
   "codemirror_mode": {
    "name": "ipython",
    "version": 3
   },
   "file_extension": ".py",
   "mimetype": "text/x-python",
   "name": "python",
   "nbconvert_exporter": "python",
   "pygments_lexer": "ipython3",
   "version": "3.7.2+"
  }
 },
 "nbformat": 4,
 "nbformat_minor": 2
}
